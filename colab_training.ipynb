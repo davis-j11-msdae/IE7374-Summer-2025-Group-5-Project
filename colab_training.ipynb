{
  "nbformat": 4,
  "nbformat_minor": 0,
  "metadata": {
    "colab": {
      "provenance": [],
      "machine_shape": "hm",
      "gpuType": "A100",
      "include_colab_link": true
    },
    "kernelspec": {
      "name": "python3",
      "display_name": "Python 3"
    },
    "language_info": {
      "name": "python"
    },
    "accelerator": "GPU"
  },
  "cells": [
    {
      "cell_type": "markdown",
      "metadata": {
        "id": "view-in-github",
        "colab_type": "text"
      },
      "source": [
        "<a href=\"https://colab.research.google.com/github/davis-j11-msdae/IE7374-Summer-2025-Group-5-Project/blob/main/colab_training.ipynb\" target=\"_parent\"><img src=\"https://colab.research.google.com/assets/colab-badge.svg\" alt=\"Open In Colab\"/></a>"
      ]
    },
    {
      "metadata": {
        "id": "wdeyBCyrqbZp"
      },
      "cell_type": "code",
      "outputs": [],
      "execution_count": null,
      "source": [
        "import os\n",
        "import sys\n",
        "if os.path.exists(\"colab_env_setup.py\"):\n",
        "    exec(open(\"colab_env_setup.py\").read())\n",
        "else:\n",
        "    for root, dirs, files in os.walk(\"/content/drive\"):\n",
        "        if \"colab_env_setup.py\" in files:\n",
        "            exec(open(os.path.join(root, \"colab_env_setup.py\")).read())"
      ]
    },
    {
      "metadata": {
        "id": "Dhrr37tkqbZq"
      },
      "cell_type": "code",
      "outputs": [],
      "execution_count": null,
      "source": [
        "exec(open('src/full.py').read())"
      ]
    }
  ]
}